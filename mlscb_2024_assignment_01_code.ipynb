{
 "cells": [
  {
   "cell_type": "markdown",
   "metadata": {
    "pycharm": {
     "name": "#%% md\n"
    }
   },
   "source": [
    "# Machine Learning for Single-Cell Biology\n",
    "***\n",
    "\n",
    "Winter Semester 2024/25<br />\n",
    "Manfred Claassen, Matthias Bruhns, Jan Schleicher\n",
    "<br />\n",
    "***\n",
    "\n",
    "## Assignment 1"
   ]
  },
  {
   "cell_type": "code",
   "execution_count": 1,
   "metadata": {
    "pycharm": {
     "name": "#%%\n"
    },
    "ExecuteTime": {
     "end_time": "2024-10-29T17:29:03.332371Z",
     "start_time": "2024-10-29T17:29:03.301582Z"
    }
   },
   "outputs": [],
   "source": [
    "import numpy as np\n",
    "import pandas as pd\n",
    "from scipy import stats\n",
    "from statsmodels.stats.multitest import multipletests\n",
    "\n",
    "import os\n",
    "from utils import import_mtx_expression_data\n",
    "from typing import Tuple\n",
    "\n",
    "from matplotlib import pyplot as plt\n",
    "import seaborn as sns\n",
    "\n",
    "sns.set_style(\"ticks\")\n",
    "\n",
    "%matplotlib inline"
   ]
  },
  {
   "cell_type": "code",
   "execution_count": 2,
   "metadata": {
    "pycharm": {
     "name": "#%%\n"
    },
    "ExecuteTime": {
     "end_time": "2024-10-29T17:29:03.335137Z",
     "start_time": "2024-10-29T17:29:03.334746Z"
    }
   },
   "outputs": [],
   "source": [
    "DATA_PATH = \"data/\"\n",
    "OUTPUT_PATH = \"output/\"\n",
    "os.makedirs(OUTPUT_PATH, exist_ok=True)"
   ]
  },
  {
   "cell_type": "markdown",
   "metadata": {
    "pycharm": {
     "name": "#%% md\n"
    }
   },
   "source": [
    "### Task 1"
   ]
  },
  {
   "cell_type": "code",
   "execution_count": 3,
   "metadata": {
    "pycharm": {
     "name": "#%%\n"
    },
    "ExecuteTime": {
     "end_time": "2024-10-29T17:29:04.499422Z",
     "start_time": "2024-10-29T17:29:03.336860Z"
    }
   },
   "outputs": [],
   "source": [
    "# Load the data\n",
    "expression_data_1 = import_mtx_expression_data(os.path.join(DATA_PATH, \"expression_data_1.mtx\"),\n",
    "                                               os.path.join(DATA_PATH, \"expression_data_1_barcodes.tsv\"),\n",
    "                                               os.path.join(DATA_PATH, \"expression_data_1_genes.tsv\"))\n",
    "metadata_1 = pd.read_csv(os.path.join(DATA_PATH, \"expression_data_1_metadata.tsv\"), sep=\"\\t\", index_col=0)\n",
    "\n",
    "# If required, perform preprocessing of the data\n",
    "#########################\n",
    "# INSERT YOUR CODE HERE #\n",
    "#########################"
   ]
  },
  {
   "cell_type": "code",
   "execution_count": null,
   "metadata": {
    "pycharm": {
     "name": "#%%\n"
    }
   },
   "outputs": [],
   "source": [
    "def task1a_identification(expression_data: pd.DataFrame, metadata: pd.DataFrame) -> Tuple[pd.DataFrame, pd.DataFrame]:\n",
    "    \"\"\"\n",
    "    Analyze the data to identify cell types and organs\n",
    "    :param expression_data: expression matrix of shape (n_cells, n_genes)\n",
    "    :param metadata: metadata containing cell groupings and sample IDs\n",
    "    :return: organ and cell type identities\n",
    "    \"\"\"\n",
    "    organ_identity = {\"A\": \"\", \"B\": \"\", \"C\": \"\", \"D\": \"\", \"E\": \"\", \"F\": \"\"}\n",
    "    cell_type_identity = {\"T1\": \"\", \"T2\": \"\", \"T3\": \"\", \"T4\": \"\", \"T5\": \"\"}\n",
    "\n",
    "    #########################\n",
    "    # INSERT YOUR CODE HERE #\n",
    "    #########################\n",
    "\n",
    "    return pd.DataFrame.from_dict(organ_identity, orient=\"index\"),\\\n",
    "           pd.DataFrame.from_dict(cell_type_identity, orient=\"index\")"
   ]
  },
  {
   "cell_type": "code",
   "execution_count": null,
   "metadata": {
    "pycharm": {
     "name": "#%%\n"
    }
   },
   "outputs": [],
   "source": [
    "task1a_organ_identity, task1a_cell_type_identity = task1a_identification(expression_data_1, metadata_1)\n",
    "\n",
    "task1a_organ_identity.to_csv(os.path.join(OUTPUT_PATH, \"task1a_organ_identity.txt\"), sep=\"\\t\", header=False)\n",
    "task1a_cell_type_identity.to_csv(os.path.join(OUTPUT_PATH, \"task1a_cell_type_identity.txt\"), sep=\"\\t\", header=False)\n",
    "\n",
    "display(task1a_organ_identity)\n",
    "display(task1a_cell_type_identity)"
   ]
  },
  {
   "cell_type": "code",
   "execution_count": null,
   "metadata": {
    "pycharm": {
     "name": "#%%\n"
    }
   },
   "outputs": [],
   "source": [
    "# Load the data\n",
    "expression_data_2 = import_mtx_expression_data(os.path.join(DATA_PATH, \"expression_data_2.mtx\"),\n",
    "                                               os.path.join(DATA_PATH, \"expression_data_2_barcodes.tsv\"),\n",
    "                                               os.path.join(DATA_PATH, \"expression_data_2_genes.tsv\"))\n",
    "\n",
    "# If required, perform preprocessing of the data\n",
    "#########################\n",
    "# INSERT YOUR CODE HERE #\n",
    "#########################"
   ]
  },
  {
   "cell_type": "code",
   "execution_count": null,
   "metadata": {
    "pycharm": {
     "name": "#%%\n"
    }
   },
   "outputs": [],
   "source": [
    "def task1b_annotation(expression_data: pd.DataFrame, expression_data_ref: pd.DataFrame, metadata_ref) -> pd.DataFrame:\n",
    "    \"\"\"\n",
    "    Annotate each cell with its corresponding cell type\n",
    "    :param expression_data: expression matrix of shape (n_cells, n_genes)\n",
    "    :param expression_data_ref: reference expression matrix of shape (n_cells_ref, n_genes)\n",
    "    :param metadata_ref: reference metadata with n_cells_ref rows and a column containing true cell types for expression_data_ref\n",
    "    :return: cell type annotations for expression_data\n",
    "    \"\"\"\n",
    "    cell_annotations = pd.DataFrame(index=expression_data.index.values, columns=[\"phenotype\"])\n",
    "\n",
    "    #########################\n",
    "    # INSERT YOUR CODE HERE #\n",
    "    #########################\n",
    "\n",
    "    return cell_annotations"
   ]
  },
  {
   "cell_type": "markdown",
   "metadata": {
    "pycharm": {
     "name": "#%% md\n"
    }
   },
   "source": [
    "**Please also submit the output CSV file with the annotations for Task 1b!**"
   ]
  },
  {
   "cell_type": "code",
   "execution_count": null,
   "metadata": {
    "pycharm": {
     "name": "#%%\n"
    }
   },
   "outputs": [],
   "source": [
    "task1b_cell_annotations = task1b_annotation(expression_data_2, expression_data_1, metadata_1)\n",
    "task1b_cell_annotations.to_csv(os.path.join(OUTPUT_PATH, \"task1b_cell_annotations.txt\"), sep=\"\\t\")"
   ]
  },
  {
   "cell_type": "markdown",
   "metadata": {
    "pycharm": {
     "name": "#%% md\n"
    }
   },
   "source": [
    "### Task 2"
   ]
  },
  {
   "cell_type": "code",
   "execution_count": null,
   "metadata": {
    "pycharm": {
     "name": "#%%\n"
    }
   },
   "outputs": [],
   "source": [
    "cell_sequences = np.load(os.path.join(DATA_PATH, \"tex_sampling.npy\"))\n",
    "metadata_3 = pd.read_csv(os.path.join(DATA_PATH, \"expression_data_3_metadata.txt\"), sep=\"\\t\", index_col=0)\n",
    "expression_data_3 = import_mtx_expression_data(os.path.join(DATA_PATH, \"expression_data_3.mtx\"),\n",
    "                                               os.path.join(DATA_PATH, \"expression_data_3_barcodes.tsv\"),\n",
    "                                               os.path.join(DATA_PATH, \"expression_data_3_genes.tsv\"))"
   ]
  },
  {
   "cell_type": "code",
   "execution_count": null,
   "metadata": {
    "pycharm": {
     "name": "#%%\n"
    }
   },
   "outputs": [],
   "source": [
    "def task2a_trajectory_analysis(sequences: np.ndarray, metadata: pd.DataFrame) -> Tuple[list, list]:\n",
    "    \"\"\"\n",
    "    Identify an ordering of louvain clusters along the two trajectories\n",
    "    :param sequences: numpy array of cell sequences (cell indices, corresponding to rows of metadata) of shape\n",
    "    (n_sequences, n_steps)\n",
    "    :param metadata: cell metadata with louvain clusters\n",
    "    :return: orderings of louvain clusters along the two trajectories\n",
    "    \"\"\"\n",
    "    upper_trajectory_louvain_ordering = []\n",
    "    lower_trajectory_louvain_ordering = []\n",
    "\n",
    "    #########################\n",
    "    # INSERT YOUR CODE HERE #\n",
    "    #########################\n",
    "\n",
    "    return upper_trajectory_louvain_ordering, lower_trajectory_louvain_ordering"
   ]
  },
  {
   "cell_type": "markdown",
   "metadata": {
    "pycharm": {
     "name": "#%% md\n"
    }
   },
   "source": [
    "**Please also submit the output files with the cluster orderings for Task 2a!**"
   ]
  },
  {
   "cell_type": "code",
   "execution_count": null,
   "metadata": {
    "pycharm": {
     "name": "#%%\n"
    }
   },
   "outputs": [],
   "source": [
    "task2a_upper_trajectory, task2a_lower_trajectory = task2a_trajectory_analysis(cell_sequences, metadata_3)\n",
    "pd.DataFrame(task2a_upper_trajectory).to_csv(os.path.join(OUTPUT_PATH, \"task2a_upper_trajectory.txt\"), header=False)\n",
    "pd.DataFrame(task2a_lower_trajectory).to_csv(os.path.join(OUTPUT_PATH, \"task2a_lower_trajectory.txt\"), header=False)"
   ]
  },
  {
   "cell_type": "code",
   "execution_count": null,
   "metadata": {
    "pycharm": {
     "name": "#%%\n"
    }
   },
   "outputs": [],
   "source": [
    "def task2b_correlation_analysis(expression_data: pd.DataFrame, metadata: pd.DataFrame) -> pd.DataFrame:\n",
    "    \"\"\"\n",
    "    Compute the correlation of each gene's expression with sample ID\n",
    "    :param expression_data: expression matrix of shape (n_cells, n_genes)\n",
    "    :param metadata: metadata containing sample IDs (column name sampleID)\n",
    "    :return: data frame with correlation and p value for each gene\n",
    "    \"\"\"\n",
    "    gene_correlations = pd.DataFrame(data=np.ones((expression_data.shape[1], 3)), index=expression_data.columns.values,\n",
    "                                     columns=[\"correlation\", \"abs_correlation\", \"p_value\"])\n",
    "\n",
    "    #########################\n",
    "    # INSERT YOUR CODE HERE #\n",
    "    #########################\n",
    "\n",
    "    return gene_correlations"
   ]
  },
  {
   "cell_type": "markdown",
   "metadata": {
    "pycharm": {
     "name": "#%% md\n"
    }
   },
   "source": [
    "**Please also submit the output CSV file with the correlations for Task 2b!**"
   ]
  },
  {
   "cell_type": "code",
   "execution_count": null,
   "metadata": {
    "pycharm": {
     "name": "#%%\n"
    }
   },
   "outputs": [],
   "source": [
    "task2b_gene_correlations = task2b_correlation_analysis(expression_data_3, metadata_3)\n",
    "task2b_gene_correlations.sort_values(\"abs_correlation\", ascending=False).iloc[:10]\\\n",
    "    .to_csv(os.path.join(OUTPUT_PATH, \"task2b_gene_correlations.txt\"), sep=\"\\t\")\n",
    "\n",
    "fig, ax = plt.subplots(figsize=(9, 6))\n",
    "sns.scatterplot(x=task2b_gene_correlations[\"correlation\"], y=-np.log(task2b_gene_correlations[\"p_value\"] + 1e-15), ax=ax)\n",
    "ax.set_ylabel(\"-log p-value\");"
   ]
  },
  {
   "cell_type": "code",
   "execution_count": null,
   "metadata": {
    "pycharm": {
     "name": "#%%\n"
    }
   },
   "outputs": [],
   "source": []
  }
 ],
 "metadata": {
  "kernelspec": {
   "display_name": "Python 3 (ipykernel)",
   "language": "python",
   "name": "python3"
  },
  "language_info": {
   "codemirror_mode": {
    "name": "ipython",
    "version": 3
   },
   "file_extension": ".py",
   "mimetype": "text/x-python",
   "name": "python",
   "nbconvert_exporter": "python",
   "pygments_lexer": "ipython3",
   "version": "3.11.4"
  }
 },
 "nbformat": 4,
 "nbformat_minor": 1
}
