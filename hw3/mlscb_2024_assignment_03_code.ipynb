{
 "cells": [
  {
   "cell_type": "markdown",
   "metadata": {
    "pycharm": {
     "name": "#%% md\n"
    }
   },
   "source": [
    "# Machine Learning for Single-Cell Biology\n",
    "***\n",
    "\n",
    "Winter Semester 2024/25<br />\n",
    "Manfred Claassen, Matthias Bruhns, Jan Schleicher\n",
    "<br />\n",
    "***\n",
    "\n",
    "## Assignment 3"
   ]
  },
  {
   "cell_type": "code",
   "execution_count": null,
   "metadata": {
    "pycharm": {
     "name": "#%%\n"
    }
   },
   "outputs": [],
   "source": [
    "import numpy as np\n",
    "import pandas as pd\n",
    "import umap\n",
    "from scipy import stats\n",
    "from statsmodels.stats.multitest import multipletests\n",
    "from sklearn.decomposition import FactorAnalysis\n",
    "import os\n",
    "from matplotlib import pyplot as plt\n",
    "import seaborn as sns\n",
    "\n",
    "from typing import List, Union, Tuple\n",
    "\n",
    "sns.set_style(\"ticks\")\n",
    "%matplotlib inline"
   ]
  },
  {
   "cell_type": "code",
   "execution_count": null,
   "metadata": {
    "pycharm": {
     "name": "#%%\n"
    }
   },
   "outputs": [],
   "source": [
    "DATA_PATH = \"data/\"\n",
    "OUTPUT_PATH = \"output/\"\n",
    "os.makedirs(OUTPUT_PATH, exist_ok=True)"
   ]
  },
  {
   "cell_type": "markdown",
   "metadata": {
    "pycharm": {
     "name": "#%% md\n"
    }
   },
   "source": [
    "### Task 1"
   ]
  },
  {
   "cell_type": "code",
   "execution_count": null,
   "metadata": {
    "pycharm": {
     "name": "#%%\n"
    }
   },
   "outputs": [],
   "source": [
    "def task1a_get_mean_per_cell_type(expression_df: pd.DataFrame,\n",
    "                                  cell_type_df: pd.DataFrame,\n",
    "                                  gene_list: List[str],\n",
    "                                  cell_type_col: str = \"cell_type\") -> pd.DataFrame:\n",
    "    \"\"\"\n",
    "    Compute the mean expression per cell type from a single-cell expression matrix.\n",
    "    :param expression_df: A DataFrame of shape (n_cells, n_genes) containing the expression data.\n",
    "    :param cell_type_df: A DataFrame of shape (n_cells, n_annotations) containing metadata (including cell type).\n",
    "    :param gene_list: A list of marker genes for which to compute mean expression.\n",
    "    :param cell_type_col: The name of the column in cell_type_df that contains cell type annotations.\n",
    "    :return: A DataFrame of shape (n_cell_types, n_markers) with the mean expression per cell type for the given genes.\n",
    "    \"\"\"\n",
    "    cell_type_means = pd.DataFrame(index=cell_type_df[cell_type_col].astype(\"category\").cat.categories,\n",
    "                                   columns=gene_list)\n",
    "    #########################\n",
    "    # INSERT YOUR CODE HERE #\n",
    "    #########################\n",
    "    return cell_type_means"
   ]
  },
  {
   "cell_type": "code",
   "execution_count": null,
   "metadata": {
    "pycharm": {
     "name": "#%%\n"
    }
   },
   "outputs": [],
   "source": [
    "def task1a_plot_heatmap(cell_type_means: pd.DataFrame) -> None:\n",
    "    \"\"\"\n",
    "    Plot a heatmap displaying mean expression per cell type.\n",
    "    :param cell_type_means: A DataFrame of shape (n_cell_types, n_markers) with the mean expression per cell type.\n",
    "    :return:\n",
    "    \"\"\"\n",
    "    #########################\n",
    "    # INSERT YOUR CODE HERE #\n",
    "    #########################\n",
    "    return None"
   ]
  },
  {
   "cell_type": "code",
   "execution_count": null,
   "metadata": {
    "pycharm": {
     "name": "#%%\n"
    }
   },
   "outputs": [],
   "source": [
    "def task1c_compute_umap(expression_df: pd.DataFrame) -> np.ndarray:\n",
    "    \"\"\"\n",
    "    Compute a UMAP embedding of the expression data.\n",
    "    :param expression_df: A Dataframe of shape (n_cells, n_genes) containing the expression data.\n",
    "    :return: An array of shape (n_cells, 2) containing the embedding coordinates.\n",
    "    \"\"\"\n",
    "    embedding = np.zeros((expression_df.shape[0], 2))\n",
    "    #########################\n",
    "    # INSERT YOUR CODE HERE #\n",
    "    #########################\n",
    "    return embedding"
   ]
  },
  {
   "cell_type": "code",
   "execution_count": null,
   "metadata": {
    "pycharm": {
     "name": "#%%\n"
    }
   },
   "outputs": [],
   "source": [
    "# Load data\n",
    "expression_data = pd.read_csv(os.path.join(DATA_PATH, \"expression_data_1.txt\"), sep=\"\\t\", index_col=0)\n",
    "cell_type_data = pd.read_csv(os.path.join(DATA_PATH, \"cell_type_data_1.txt\"), sep=\"\\t\", index_col=0)"
   ]
  },
  {
   "cell_type": "code",
   "execution_count": null,
   "metadata": {
    "pycharm": {
     "name": "#%%\n"
    }
   },
   "outputs": [],
   "source": [
    "# Get mean expression of marker genes per cell type\n",
    "marker_genes = [\"CCR7\", \"CD14\", \"IL7R\", \"S100A4\", \"MS4A1\", \"CD8A\", \"FCGR3A\", \"MS4A7\", \"NKG7\", \"FCER1A\", \"PPBP\"]\n",
    "mean_expression = task1a_get_mean_per_cell_type(expression_df=expression_data,\n",
    "                                                cell_type_df=cell_type_data,\n",
    "                                                gene_list=marker_genes)\n",
    "\n",
    "task1a_plot_heatmap(mean_expression)"
   ]
  },
  {
   "cell_type": "markdown",
   "metadata": {
    "pycharm": {
     "name": "#%% md\n"
    }
   },
   "source": [
    "**Provide your text answers for Task 1B here**"
   ]
  },
  {
   "cell_type": "markdown",
   "metadata": {
    "pycharm": {
     "name": "#%% md\n"
    }
   },
   "source": []
  },
  {
   "cell_type": "code",
   "execution_count": null,
   "metadata": {
    "pycharm": {
     "name": "#%%\n"
    }
   },
   "outputs": [],
   "source": [
    "# Compute UMAP\n",
    "umap_coords = task1c_compute_umap(expression_df=expression_data)"
   ]
  },
  {
   "cell_type": "code",
   "execution_count": null,
   "metadata": {
    "pycharm": {
     "name": "#%%\n"
    }
   },
   "outputs": [],
   "source": [
    "# Plot UMAPs with gene expression\n",
    "#########################\n",
    "# INSERT YOUR CODE HERE #\n",
    "#########################"
   ]
  },
  {
   "cell_type": "markdown",
   "metadata": {
    "pycharm": {
     "name": "#%% md\n"
    }
   },
   "source": [
    "### Task 2"
   ]
  },
  {
   "cell_type": "code",
   "execution_count": null,
   "metadata": {
    "pycharm": {
     "name": "#%%\n"
    }
   },
   "outputs": [],
   "source": [
    "def task2a_differential_expression_testing(expression_df: pd.DataFrame,\n",
    "                                           cell_type_df: pd.DataFrame,\n",
    "                                           cell_type_col: str = \"cell_type\") -> pd.DataFrame:\n",
    "    \"\"\"\n",
    "    Perform a differential expression analysis between cell types.\n",
    "    :param expression_df: A Dataframe of shape (n_cells, n_genes) containing the expression data.\n",
    "    :param cell_type_df: A DataFrame of shape (n_cells, n_annotations) containing metadata (including cell type).\n",
    "    :param cell_type_col: The name of the column in cell_type_df that contains cell type annotations.\n",
    "    :return: A DataFrame with the results of differential expression testing.\n",
    "    \"\"\"\n",
    "    de_results = pd.DataFrame(columns=pd.MultiIndex.from_product([cell_type_df[cell_type_col].unique(),\n",
    "                                                                  [\"p\", \"logFC\", \"p_adj\"]]),\n",
    "                              index=expression_df.columns)\n",
    "    # stats.mannwhitneyu\n",
    "    #########################\n",
    "    # INSERT YOUR CODE HERE #\n",
    "    #########################\n",
    "    return de_results"
   ]
  },
  {
   "cell_type": "code",
   "execution_count": null,
   "metadata": {
    "pycharm": {
     "name": "#%%\n"
    }
   },
   "outputs": [],
   "source": [
    "# Perform differential expression analysis\n",
    "de_genes = task2a_differential_expression_testing(expression_df=expression_data,\n",
    "                                                  cell_type_df=cell_type_data)\n",
    "de_genes.to_csv(os.path.join(OUTPUT_PATH, \"de_results.tsv\"), sep=\"\\t\")"
   ]
  },
  {
   "cell_type": "markdown",
   "metadata": {
    "pycharm": {
     "name": "#%% md\n"
    }
   },
   "source": [
    "**Provide your text answers for Task 2B here**"
   ]
  },
  {
   "cell_type": "markdown",
   "metadata": {
    "pycharm": {
     "name": "#%% md\n"
    }
   },
   "source": []
  },
  {
   "cell_type": "markdown",
   "metadata": {
    "pycharm": {
     "name": "#%% md\n"
    }
   },
   "source": [
    "### Task 3"
   ]
  },
  {
   "cell_type": "code",
   "execution_count": null,
   "metadata": {
    "pycharm": {
     "name": "#%%\n"
    }
   },
   "outputs": [],
   "source": [
    "def task3a_factor_analysis(expression_df: pd.DataFrame) -> Tuple[np.ndarray, np.ndarray]:\n",
    "    \"\"\"\n",
    "    Perform factor analysis on the expression data.\n",
    "    :param expression_df: A Dataframe of shape (n_cells, n_genes) containing the expression data.\n",
    "    :return: An array with factor activities of shape (n_cells, n_factors) and\n",
    "    an array with gene loadings of shape (n_factors, n_genes).\n",
    "    \"\"\"\n",
    "    # fa = FactorAnalysis(n_components=3)\n",
    "\n",
    "    factor_activity = np.zeros((expression_df.shape[0], 3))\n",
    "    gene_loadings = np.zeros((3, expression_df.shape[1]))\n",
    "\n",
    "    #########################\n",
    "    # INSERT YOUR CODE HERE #\n",
    "    #########################\n",
    "\n",
    "    return factor_activity, gene_loadings"
   ]
  },
  {
   "cell_type": "code",
   "execution_count": null,
   "metadata": {
    "pycharm": {
     "name": "#%%\n"
    }
   },
   "outputs": [],
   "source": [
    "# Run factor analysis\n",
    "factor_activities, gene_loadings = task3a_factor_analysis(expression_df=expression_data)"
   ]
  },
  {
   "cell_type": "code",
   "execution_count": null,
   "metadata": {
    "pycharm": {
     "name": "#%%\n"
    }
   },
   "outputs": [],
   "source": [
    "# Plot factor activity on UMAP (you can use the function from Task 1C)\n",
    "#########################\n",
    "# INSERT YOUR CODE HERE #\n",
    "#########################"
   ]
  },
  {
   "cell_type": "markdown",
   "metadata": {
    "pycharm": {
     "name": "#%% md\n"
    }
   },
   "source": [
    "**Provide your text answers for Task 3A here**"
   ]
  },
  {
   "cell_type": "markdown",
   "metadata": {
    "pycharm": {
     "name": "#%% md\n"
    }
   },
   "source": []
  },
  {
   "cell_type": "code",
   "execution_count": null,
   "metadata": {
    "pycharm": {
     "name": "#%%\n"
    }
   },
   "outputs": [],
   "source": [
    "# Export loadings\n",
    "loadings_df = pd.DataFrame(gene_loadings.T,\n",
    "                           index=expression_data.columns,\n",
    "                           columns=[f\"factor_{i+1}\" for i in range(gene_loadings.shape[0])])\n",
    "loadings_df.to_csv(os.path.join(OUTPUT_PATH, \"fa_gene_loadings.tsv\"), sep=\"\\t\", header=True, index=True)"
   ]
  },
  {
   "cell_type": "markdown",
   "metadata": {
    "pycharm": {
     "name": "#%% md\n"
    }
   },
   "source": [
    "**You may perform GSEA with any python tool, but you can also use some online tool if you prefer that. Just make sure to submit the results.**"
   ]
  },
  {
   "cell_type": "code",
   "execution_count": null,
   "metadata": {
    "pycharm": {
     "name": "#%%\n"
    }
   },
   "outputs": [],
   "source": [
    "# Gene set enrichment analysis\n",
    "#########################\n",
    "# INSERT YOUR CODE HERE #\n",
    "#########################"
   ]
  },
  {
   "cell_type": "markdown",
   "metadata": {
    "pycharm": {
     "name": "#%% md\n"
    }
   },
   "source": [
    "**Provide your text answers for Task 3B here**"
   ]
  },
  {
   "cell_type": "markdown",
   "metadata": {
    "pycharm": {
     "name": "#%% md\n"
    }
   },
   "source": []
  },
  {
   "cell_type": "code",
   "execution_count": null,
   "metadata": {
    "pycharm": {
     "name": "#%%\n"
    }
   },
   "outputs": [],
   "source": []
  }
 ],
 "metadata": {
  "kernelspec": {
   "display_name": "Python 3 (ipykernel)",
   "language": "python",
   "name": "python3"
  },
  "language_info": {
   "codemirror_mode": {
    "name": "ipython",
    "version": 3
   },
   "file_extension": ".py",
   "mimetype": "text/x-python",
   "name": "python",
   "nbconvert_exporter": "python",
   "pygments_lexer": "ipython3",
   "version": "3.11.4"
  }
 },
 "nbformat": 4,
 "nbformat_minor": 1
}
