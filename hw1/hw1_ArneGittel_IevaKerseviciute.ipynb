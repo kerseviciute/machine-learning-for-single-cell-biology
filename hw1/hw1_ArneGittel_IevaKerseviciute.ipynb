{
 "cells": [
  {
   "cell_type": "markdown",
   "metadata": {
    "pycharm": {
     "name": "#%% md\n"
    }
   },
   "source": [
    "# Machine Learning for Single-Cell Biology\n",
    "***\n",
    "\n",
    "Winter Semester 2024/25<br />\n",
    "Manfred Claassen, Matthias Bruhns, Jan Schleicher\n",
    "<br />\n",
    "***\n",
    "\n",
    "## Assignment 1"
   ]
  },
  {
   "cell_type": "code",
   "execution_count": 1,
   "metadata": {
    "pycharm": {
     "name": "#%%\n"
    },
    "ExecuteTime": {
     "end_time": "2024-11-17T16:16:49.499539Z",
     "start_time": "2024-11-17T16:16:49.476794Z"
    }
   },
   "outputs": [],
   "source": [
    "import numpy as np\n",
    "import pandas as pd\n",
    "from scipy import stats\n",
    "from statsmodels.stats.multitest import multipletests\n",
    "from functools import reduce\n",
    "\n",
    "import os\n",
    "from utils import import_mtx_expression_data\n",
    "from typing import Tuple\n",
    "\n",
    "from matplotlib import pyplot as plt\n",
    "import seaborn as sns\n",
    "\n",
    "sns.set_style(\"ticks\")\n",
    "\n",
    "%matplotlib inline"
   ]
  },
  {
   "cell_type": "code",
   "execution_count": 2,
   "metadata": {
    "pycharm": {
     "name": "#%%\n"
    },
    "ExecuteTime": {
     "end_time": "2024-11-17T16:16:49.502763Z",
     "start_time": "2024-11-17T16:16:49.499771Z"
    }
   },
   "outputs": [],
   "source": [
    "DATA_PATH = \"data/\"\n",
    "OUTPUT_PATH = \"output/\"\n",
    "os.makedirs(OUTPUT_PATH, exist_ok=True)"
   ]
  },
  {
   "cell_type": "markdown",
   "metadata": {
    "pycharm": {
     "name": "#%% md\n"
    }
   },
   "source": [
    "### Task 1"
   ]
  },
  {
   "cell_type": "code",
   "execution_count": 3,
   "metadata": {
    "pycharm": {
     "name": "#%%\n"
    },
    "ExecuteTime": {
     "end_time": "2024-11-17T16:16:50.576127Z",
     "start_time": "2024-11-17T16:16:49.502356Z"
    }
   },
   "outputs": [],
   "source": [
    "# Load the data\n",
    "expression_data_1 = import_mtx_expression_data(os.path.join(DATA_PATH, \"expression_data_1.mtx\"),\n",
    "                                               os.path.join(DATA_PATH, \"expression_data_1_barcodes.tsv\"),\n",
    "                                               os.path.join(DATA_PATH, \"expression_data_1_genes.tsv\"))\n",
    "metadata_1 = pd.read_csv(os.path.join(DATA_PATH, \"expression_data_1_metadata.tsv\"), sep=\"\\t\", index_col=0)\n",
    "metadata_1.columns = [\"CellType\", \"Organ\"]"
   ]
  },
  {
   "cell_type": "markdown",
   "metadata": {},
   "source": [
    "We identified the organ of origin and the cell types by using cell type proportions in each organ. For this, we replicated the figure 2J from the paper, and visually matched the cell type proportions."
   ]
  },
  {
   "cell_type": "code",
   "execution_count": 4,
   "metadata": {
    "collapsed": false,
    "ExecuteTime": {
     "end_time": "2024-11-17T16:16:50.578290Z",
     "start_time": "2024-11-17T16:16:50.576829Z"
    }
   },
   "outputs": [],
   "source": [
    "def task1a_identification(expression_data: pd.DataFrame, metadata: pd.DataFrame) -> Tuple[pd.DataFrame, pd.DataFrame]:\n",
    "    \"\"\"\n",
    "    Analyze the data to identify cell types and organs\n",
    "    :param expression_data: expression matrix of shape (n_cells, n_genes)\n",
    "    :param metadata: metadata containing cell groupings and sample IDs\n",
    "    :return: organ and cell type identities\n",
    "    \"\"\"\n",
    "    organ_identity = {\"A\": \"spleen\", \"B\": \"LN\", \"C\": \"BM\", \"D\": \"blood\", \"E\": \"liver\", \"F\": \"lung\"}\n",
    "    cell_type_identity = {\"T1\": \"E\", \"T2\": \"Exh\", \"T3\": \"I\", \"T4\": \"M\", \"T5\": \"P\"}\n",
    "\n",
    "    return pd.DataFrame.from_dict(organ_identity, orient=\"index\"), \\\n",
    "        pd.DataFrame.from_dict(cell_type_identity, orient=\"index\")"
   ]
  },
  {
   "cell_type": "code",
   "execution_count": 5,
   "metadata": {
    "ExecuteTime": {
     "end_time": "2024-11-17T16:16:50.581868Z",
     "start_time": "2024-11-17T16:16:50.579346Z"
    }
   },
   "outputs": [],
   "source": [
    "def cell_type_frequency(metadata):\n",
    "    \"\"\"\n",
    "    Calculate the frequency of all cell types in each organ.\n",
    "    :param metadata: annotation data containing CellType and Organ annotations.\n",
    "    :return: frequency of all cell types in each organ as a DataFrame\n",
    "    \"\"\"\n",
    "    frequency = []\n",
    "    for organ in metadata.Organ.unique():\n",
    "        cells = (metadata[metadata.Organ == organ]).groupby(\"CellType\").count()\n",
    "        cellCounts = cells.Organ.tolist()\n",
    "        cellFrequencies = np.array(cellCounts) / sum(cellCounts)\n",
    "\n",
    "        frequency.append(pd.DataFrame({\n",
    "            \"CellType\": cells.index,\n",
    "            organ: cellFrequencies\n",
    "        }))\n",
    "\n",
    "    frequency = reduce(lambda left, right: pd.merge(left, right, on = \"CellType\"), frequency)\n",
    "\n",
    "    frequency = frequency.T\n",
    "    frequency.columns = frequency.iloc[0, :].tolist()\n",
    "    frequency = frequency.iloc[1:, :]\n",
    "\n",
    "    frequency[\"Organ\"] = frequency.index\n",
    "\n",
    "    return frequency"
   ]
  },
  {
   "cell_type": "code",
   "execution_count": 6,
   "metadata": {
    "collapsed": false,
    "ExecuteTime": {
     "end_time": "2024-11-17T16:16:50.586402Z",
     "start_time": "2024-11-17T16:16:50.582285Z"
    }
   },
   "outputs": [],
   "source": [
    "# Identified organ and cell identities\n",
    "organ_identity, cell_type_identity = task1a_identification(expression_data_1, metadata_1)\n",
    "organ_identity = organ_identity.to_dict().get(0)\n",
    "cell_type_identity = cell_type_identity.to_dict().get(0)"
   ]
  },
  {
   "cell_type": "code",
   "execution_count": 7,
   "metadata": {
    "ExecuteTime": {
     "end_time": "2024-11-17T16:16:50.607133Z",
     "start_time": "2024-11-17T16:16:50.589233Z"
    }
   },
   "outputs": [],
   "source": [
    "# Count the frequency of all cell types in each organ\n",
    "frequency = cell_type_frequency(metadata_1)\n",
    "\n",
    "# Set the correct order of the cell types\n",
    "frequency = frequency[[\"Organ\", \"T5\", \"T4\", \"T3\", \"T2\", \"T1\"]]\n",
    "\n",
    "# Add identified organ and cell type annotations to the data\n",
    "frequency.index = [f\"{organ}: {organ_identity.get(organ)}\" for organ in frequency.index]\n",
    "frequency.columns = [\"Organ\"] + [f\"{cellType}: {cell_type_identity.get(cellType)}\" for cellType in frequency.columns[1:]]"
   ]
  },
  {
   "cell_type": "code",
   "execution_count": 8,
   "metadata": {
    "collapsed": false,
    "ExecuteTime": {
     "end_time": "2024-11-17T16:16:50.696935Z",
     "start_time": "2024-11-17T16:16:50.605998Z"
    }
   },
   "outputs": [
    {
     "data": {
      "text/plain": "<Figure size 800x600 with 1 Axes>",
      "image/png": "[encoded data removed]"
     },
     "metadata": {},
     "output_type": "display_data"
    }
   ],
   "source": [
    "fig, ax = plt.subplots(figsize = (8, 6))\n",
    "colors = [\"#a67c52\", \"#ff9a8b\", \"#d4d8d5\", \"#7a7563\", \"#619b44\"]\n",
    "frequency.set_index(\"Organ\").plot(kind = \"bar\", stacked = True, color = colors, ax = ax, width = 0.8)\n",
    "ax.set_ylabel(\"frequency\")\n",
    "ax.set_xlabel(\"\")\n",
    "ax.set_xticklabels(frequency.index, rotation = 0)\n",
    "ax.legend(title = \"\", bbox_to_anchor = (1.05, 1), loc = \"upper left\", labels = frequency.columns[1:])\n",
    "plt.tight_layout()\n",
    "plt.show()"
   ]
  },
  {
   "cell_type": "code",
   "execution_count": 9,
   "metadata": {
    "pycharm": {
     "name": "#%%\n"
    },
    "ExecuteTime": {
     "end_time": "2024-11-17T16:16:50.705930Z",
     "start_time": "2024-11-17T16:16:50.694958Z"
    }
   },
   "outputs": [
    {
     "data": {
      "text/plain": "        0\nA  spleen\nB      LN\nC      BM\nD   blood\nE   liver\nF    lung",
      "text/html": "<div>\n<style scoped>\n    .dataframe tbody tr th:only-of-type {\n        vertical-align: middle;\n    }\n\n    .dataframe tbody tr th {\n        vertical-align: top;\n    }\n\n    .dataframe thead th {\n        text-align: right;\n    }\n</style>\n<table border=\"1\" class=\"dataframe\">\n  <thead>\n    <tr style=\"text-align: right;\">\n      <th></th>\n      <th>0</th>\n    </tr>\n  </thead>\n  <tbody>\n    <tr>\n      <th>A</th>\n      <td>spleen</td>\n    </tr>\n    <tr>\n      <th>B</th>\n      <td>LN</td>\n    </tr>\n    <tr>\n      <th>C</th>\n      <td>BM</td>\n    </tr>\n    <tr>\n      <th>D</th>\n      <td>blood</td>\n    </tr>\n    <tr>\n      <th>E</th>\n      <td>liver</td>\n    </tr>\n    <tr>\n      <th>F</th>\n      <td>lung</td>\n    </tr>\n  </tbody>\n</table>\n</div>"
     },
     "metadata": {},
     "output_type": "display_data"
    },
    {
     "data": {
      "text/plain": "      0\nT1    E\nT2  Exh\nT3    I\nT4    M\nT5    P",
      "text/html": "<div>\n<style scoped>\n    .dataframe tbody tr th:only-of-type {\n        vertical-align: middle;\n    }\n\n    .dataframe tbody tr th {\n        vertical-align: top;\n    }\n\n    .dataframe thead th {\n        text-align: right;\n    }\n</style>\n<table border=\"1\" class=\"dataframe\">\n  <thead>\n    <tr style=\"text-align: right;\">\n      <th></th>\n      <th>0</th>\n    </tr>\n  </thead>\n  <tbody>\n    <tr>\n      <th>T1</th>\n      <td>E</td>\n    </tr>\n    <tr>\n      <th>T2</th>\n      <td>Exh</td>\n    </tr>\n    <tr>\n      <th>T3</th>\n      <td>I</td>\n    </tr>\n    <tr>\n      <th>T4</th>\n      <td>M</td>\n    </tr>\n    <tr>\n      <th>T5</th>\n      <td>P</td>\n    </tr>\n  </tbody>\n</table>\n</div>"
     },
     "metadata": {},
     "output_type": "display_data"
    }
   ],
   "source": [
    "task1a_organ_identity, task1a_cell_type_identity = task1a_identification(expression_data_1, metadata_1)\n",
    "\n",
    "task1a_organ_identity.to_csv(os.path.join(OUTPUT_PATH, \"task1a_organ_identity.txt\"), sep=\"\\t\", header=False)\n",
    "task1a_cell_type_identity.to_csv(os.path.join(OUTPUT_PATH, \"task1a_cell_type_identity.txt\"), sep=\"\\t\", header=False)\n",
    "\n",
    "display(task1a_organ_identity)\n",
    "display(task1a_cell_type_identity)"
   ]
  },
  {
   "cell_type": "code",
   "execution_count": 10,
   "metadata": {
    "pycharm": {
     "name": "#%%\n"
    },
    "ExecuteTime": {
     "end_time": "2024-11-17T16:16:50.968486Z",
     "start_time": "2024-11-17T16:16:50.705690Z"
    }
   },
   "outputs": [],
   "source": [
    "# Load the data\n",
    "expression_data_2 = import_mtx_expression_data(os.path.join(DATA_PATH, \"expression_data_2.mtx\"),\n",
    "                                               os.path.join(DATA_PATH, \"expression_data_2_barcodes.tsv\"),\n",
    "                                               os.path.join(DATA_PATH, \"expression_data_2_genes.tsv\"))"
   ]
  },
  {
   "cell_type": "code",
   "execution_count": 11,
   "metadata": {
    "pycharm": {
     "name": "#%%\n"
    },
    "ExecuteTime": {
     "end_time": "2024-11-17T16:16:50.968899Z",
     "start_time": "2024-11-17T16:16:50.956911Z"
    }
   },
   "outputs": [],
   "source": [
    "def task1b_annotation(expression_data: pd.DataFrame, expression_data_ref: pd.DataFrame, metadata_ref) -> pd.DataFrame:\n",
    "    \"\"\"\n",
    "    Annotate each cell with its corresponding cell type\n",
    "    :param expression_data: expression matrix of shape (n_cells, n_genes)\n",
    "    :param expression_data_ref: reference expression matrix of shape (n_cells_ref, n_genes)\n",
    "    :param metadata_ref: reference metadata with n_cells_ref rows and a column containing true cell types for expression_data_ref\n",
    "    :return: cell type annotations for expression_data\n",
    "    \"\"\"\n",
    "    cell_annotations = pd.DataFrame(index=expression_data.index.values, columns=[\"phenotype\"])\n",
    "\n",
    "    #########################\n",
    "    # INSERT YOUR CODE HERE #\n",
    "    #########################\n",
    "\n",
    "    return cell_annotations"
   ]
  },
  {
   "cell_type": "markdown",
   "metadata": {
    "pycharm": {
     "name": "#%% md\n"
    }
   },
   "source": [
    "**Please also submit the output CSV file with the annotations for Task 1b!**"
   ]
  },
  {
   "cell_type": "code",
   "execution_count": 12,
   "metadata": {
    "pycharm": {
     "name": "#%%\n"
    },
    "ExecuteTime": {
     "end_time": "2024-11-17T16:16:50.969007Z",
     "start_time": "2024-11-17T16:16:50.960238Z"
    }
   },
   "outputs": [],
   "source": [
    "task1b_cell_annotations = task1b_annotation(expression_data_2, expression_data_1, metadata_1)\n",
    "task1b_cell_annotations.to_csv(os.path.join(OUTPUT_PATH, \"task1b_cell_annotations.txt\"), sep=\"\\t\")"
   ]
  },
  {
   "cell_type": "markdown",
   "metadata": {
    "pycharm": {
     "name": "#%% md\n"
    }
   },
   "source": [
    "### Task 2"
   ]
  },
  {
   "cell_type": "code",
   "execution_count": 13,
   "metadata": {
    "pycharm": {
     "name": "#%%\n"
    },
    "ExecuteTime": {
     "end_time": "2024-11-17T16:16:51.155506Z",
     "start_time": "2024-11-17T16:16:50.965091Z"
    }
   },
   "outputs": [],
   "source": [
    "cell_sequences = np.load(os.path.join(DATA_PATH, \"tex_sampling.npy\"))\n",
    "metadata_3 = pd.read_csv(os.path.join(DATA_PATH, \"expression_data_3_metadata.txt\"), sep=\"\\t\", index_col=0)\n",
    "expression_data_3 = import_mtx_expression_data(os.path.join(DATA_PATH, \"expression_data_3.mtx\"),\n",
    "                                               os.path.join(DATA_PATH, \"expression_data_3_barcodes.tsv\"),\n",
    "                                               os.path.join(DATA_PATH, \"expression_data_3_genes.tsv\"))"
   ]
  },
  {
   "cell_type": "code",
   "execution_count": 14,
   "metadata": {
    "pycharm": {
     "name": "#%%\n"
    },
    "ExecuteTime": {
     "end_time": "2024-11-17T16:16:51.156417Z",
     "start_time": "2024-11-17T16:16:51.149049Z"
    }
   },
   "outputs": [],
   "source": [
    "def task2a_trajectory_analysis(sequences: np.ndarray, metadata: pd.DataFrame) -> Tuple[list, list]:\n",
    "    \"\"\"\n",
    "    Identify an ordering of louvain clusters along the two trajectories\n",
    "    :param sequences: numpy array of cell sequences (cell indices, corresponding to rows of metadata) of shape\n",
    "    (n_sequences, n_steps)\n",
    "    :param metadata: cell metadata with louvain clusters\n",
    "    :return: orderings of louvain clusters along the two trajectories\n",
    "    \"\"\"\n",
    "    upper_trajectory_louvain_ordering = []\n",
    "    lower_trajectory_louvain_ordering = []\n",
    "\n",
    "    #########################\n",
    "    # INSERT YOUR CODE HERE #\n",
    "    #########################\n",
    "\n",
    "    return upper_trajectory_louvain_ordering, lower_trajectory_louvain_ordering"
   ]
  },
  {
   "cell_type": "markdown",
   "metadata": {
    "pycharm": {
     "name": "#%% md\n"
    }
   },
   "source": [
    "**Please also submit the output files with the cluster orderings for Task 2a!**"
   ]
  },
  {
   "cell_type": "code",
   "execution_count": 15,
   "metadata": {
    "pycharm": {
     "name": "#%%\n"
    },
    "ExecuteTime": {
     "end_time": "2024-11-17T16:16:51.166534Z",
     "start_time": "2024-11-17T16:16:51.158429Z"
    }
   },
   "outputs": [],
   "source": [
    "task2a_upper_trajectory, task2a_lower_trajectory = task2a_trajectory_analysis(cell_sequences, metadata_3)\n",
    "pd.DataFrame(task2a_upper_trajectory).to_csv(os.path.join(OUTPUT_PATH, \"task2a_upper_trajectory.txt\"), header=False)\n",
    "pd.DataFrame(task2a_lower_trajectory).to_csv(os.path.join(OUTPUT_PATH, \"task2a_lower_trajectory.txt\"), header=False)"
   ]
  },
  {
   "cell_type": "code",
   "execution_count": 16,
   "metadata": {
    "pycharm": {
     "name": "#%%\n"
    },
    "ExecuteTime": {
     "end_time": "2024-11-17T16:16:51.175971Z",
     "start_time": "2024-11-17T16:16:51.165538Z"
    }
   },
   "outputs": [],
   "source": [
    "def task2b_correlation_analysis(expression_data: pd.DataFrame, metadata: pd.DataFrame) -> pd.DataFrame:\n",
    "    \"\"\"\n",
    "    Compute the correlation of each gene's expression with sample ID\n",
    "    :param expression_data: expression matrix of shape (n_cells, n_genes)\n",
    "    :param metadata: metadata containing sample IDs (column name sampleID)\n",
    "    :return: data frame with correlation and p value for each gene\n",
    "    \"\"\"\n",
    "    gene_correlations = pd.DataFrame(data=np.ones((expression_data.shape[1], 3)), index=expression_data.columns.values,\n",
    "                                     columns=[\"correlation\", \"abs_correlation\", \"p_value\"])\n",
    "\n",
    "    corrs = []\n",
    "    pvals = []\n",
    "    for gene in gene_correlations.index:\n",
    "        expression = expression_data.loc[ metadata.index, gene ]\n",
    "        correlation, p_value = stats.spearmanr(expression, metadata.sampleID)\n",
    "\n",
    "        corrs.append(correlation)\n",
    "        pvals.append(p_value)\n",
    "\n",
    "    gene_correlations[\"correlation\"] = corrs\n",
    "    gene_correlations[\"abs_correlation\"] = np.abs(corrs)\n",
    "    gene_correlations[\"p_value\"] = pvals\n",
    "\n",
    "    return gene_correlations"
   ]
  },
  {
   "cell_type": "markdown",
   "metadata": {
    "pycharm": {
     "name": "#%% md\n"
    }
   },
   "source": [
    "**Please also submit the output CSV file with the correlations for Task 2b!**"
   ]
  },
  {
   "cell_type": "code",
   "execution_count": 17,
   "metadata": {
    "pycharm": {
     "name": "#%%\n"
    },
    "ExecuteTime": {
     "end_time": "2024-11-17T16:16:52.918758Z",
     "start_time": "2024-11-17T16:16:51.171891Z"
    }
   },
   "outputs": [
    {
     "data": {
      "text/plain": "<Figure size 900x600 with 1 Axes>",
      "image/png": "[encoded data removed]"
     },
     "metadata": {},
     "output_type": "display_data"
    }
   ],
   "source": [
    "task2b_gene_correlations = task2b_correlation_analysis(expression_data_3, metadata_3)\n",
    "task2b_gene_correlations.sort_values(\"abs_correlation\", ascending=False).iloc[:10]\\\n",
    "    .to_csv(os.path.join(OUTPUT_PATH, \"task2b_gene_correlations.txt\"), sep=\"\\t\")\n",
    "\n",
    "fig, ax = plt.subplots(figsize=(9, 6))\n",
    "sns.scatterplot(x=task2b_gene_correlations[\"correlation\"], y=-np.log(task2b_gene_correlations[\"p_value\"] + 1e-15), ax=ax)\n",
    "ax.set_ylabel(\"-log p-value\");"
   ]
  },
  {
   "cell_type": "code",
   "execution_count": 17,
   "metadata": {
    "pycharm": {
     "name": "#%%\n"
    },
    "ExecuteTime": {
     "end_time": "2024-11-17T16:16:52.918966Z",
     "start_time": "2024-11-17T16:16:52.915678Z"
    }
   },
   "outputs": [],
   "source": []
  }
 ],
 "metadata": {
  "kernelspec": {
   "display_name": "python-single-cell",
   "language": "python",
   "name": "python3"
  },
  "language_info": {
   "codemirror_mode": {
    "name": "ipython",
    "version": 3
   },
   "file_extension": ".py",
   "mimetype": "text/x-python",
   "name": "python",
   "nbconvert_exporter": "python",
   "pygments_lexer": "ipython3",
   "version": "3.13.0"
  }
 },
 "nbformat": 4,
 "nbformat_minor": 1
}
