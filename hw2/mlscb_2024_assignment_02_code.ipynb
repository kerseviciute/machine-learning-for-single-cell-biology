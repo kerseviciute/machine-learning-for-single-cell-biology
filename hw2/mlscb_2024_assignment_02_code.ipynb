{
 "cells": [
  {
   "cell_type": "markdown",
   "metadata": {
    "pycharm": {
     "name": "#%% md\n"
    }
   },
   "source": [
    "# Machine Learning for Single-Cell Biology\n",
    "***\n",
    "\n",
    "Winter Semester 2024/25<br />\n",
    "Manfred Claassen, Matthias Bruhns, Jan Schleicher\n",
    "<br />\n",
    "***\n",
    "\n",
    "## Assignment 2"
   ]
  },
  {
   "cell_type": "code",
   "execution_count": 1,
   "metadata": {
    "pycharm": {
     "name": "#%%\n"
    },
    "ExecuteTime": {
     "end_time": "2024-11-22T16:52:21.335560Z",
     "start_time": "2024-11-22T16:52:19.242229Z"
    }
   },
   "outputs": [],
   "source": [
    "import matplotlib.pyplot as plt\n",
    "import matplotlib\n",
    "import numpy as np\n",
    "import os\n",
    "import pandas as pd\n",
    "import scipy.optimize as opt\n",
    "import seaborn as sns\n",
    "\n",
    "from sklearn.datasets import make_swiss_roll\n",
    "from sklearn.manifold import LocallyLinearEmbedding\n",
    "from sklearn.neighbors import NearestNeighbors\n",
    "from sklearn.preprocessing import StandardScaler\n",
    "from sklearn.metrics import davies_bouldin_score\n",
    "from umap import UMAP\n",
    "\n",
    "from tqdm.auto import tqdm\n",
    "\n",
    "sns.set_style(\"ticks\")\n",
    "%matplotlib inline"
   ]
  },
  {
   "cell_type": "code",
   "execution_count": 2,
   "metadata": {
    "pycharm": {
     "name": "#%%\n"
    },
    "ExecuteTime": {
     "end_time": "2024-11-22T16:52:21.339362Z",
     "start_time": "2024-11-22T16:52:21.336380Z"
    }
   },
   "outputs": [],
   "source": [
    "DATA_PATH = \"data/\""
   ]
  },
  {
   "cell_type": "markdown",
   "metadata": {},
   "source": [
    "# Questions\n",
    "\n",
    "- Should the data be scaled, or it is already preprocessed?"
   ]
  },
  {
   "cell_type": "markdown",
   "metadata": {
    "pycharm": {
     "name": "#%% md\n"
    }
   },
   "source": [
    "### Task 1 – Non-linear dimensionality reduction (70 points)\n",
    "\n",
    "_Single-cell RNA sequencing data has high dimensionality due to the number of genes expressed in a typical cell. Non-linear embedding is often used to visualize the high- dimensional data in 2D. The various algorithms used for this task have different strategies to represent the relevant properties of the high dimensional data in 2D._\n",
    "\n",
    "_**A.** Locally linear embedding (LLE) was an early technique that represents each data point as a linear combination of its neighbors. Explain the algorithm step by step and also implement standard LLE as described in the reference below. Use your LLE implementation to generate a 2D embedding of the data: expression_data_1.txt_\n",
    "\n",
    "_Roweis, Sam T., and Lawrence K. Saul. “Nonlinear Dimensionality Reduction by Locally Linear Embedding.” Science, vol. 290, no. 5500, American Association for the Advancement of Science, 2000, pp. 2323–26, http://www.jstor.org/stable/3081722._\n",
    "\n",
    "_Cell type identity for expression_data_1.txt have been provided in metadata_1.txt. Create a plot of the 2D embedding estimated above and annotate it with the cell type identity. (40 points)_\n"
   ]
  },
  {
   "cell_type": "markdown",
   "metadata": {
    "collapsed": false
   },
   "source": [
    "The LLE algorithm reconstructs each data point as a linear combination of its neighbors and embeds these relationships into a lower-dimensional space. It assumes that the data consists of $N$ vectors $\\vec{X_i}$ of dimensionality $D$ (in our case, $N = $ number of cells, and $D = $ number of genes). Then, the LLE algorithm can be performed in 3 steps:\n",
    "\n",
    "1. **Select $k$ neighbors for each point**: $\\eta_{ij}$, $j \\in {1, 2, \\dots, k}$ and $i \\in {1, 2, \\dots, N}$.\n",
    "    \n",
    "    For this step, we used the k-nearest neighbors algorithm, implemented in `sklearn` with default parameters (except for the number of closest neighbours).\n",
    "\n",
    "2. **Reconstruct the points with linear weights.**\n",
    "\n",
    "    In this step, we compute the weights $W_{ij}$ that best linearly estimate each point $\\vec{X_i}$ from its neighbours $\\vec{\\eta}_{i}$. For this, we solve the constrained least-squares equation:\n",
    "    \n",
    "    $$\\epsilon (W) = \\sum_i |\\vec{X}_i - \\sum_j W_{ij} \\vec{X}_j|^2$$\n",
    "    \n",
    "    The weights must adhere to two constraints: (1) $W_{ij} = 0$ if $\\vec{X}_j$ is not a neighbour of $\\vec{X}_i$, and (2) the rows of the weight matrix $W$ must sum up to 1: $\\sum_j W_j = 1$. These constraints can be taken into consideration by computing the weights (for a single point $\\vec{X}_i$) as follows:\n",
    "\n",
    "    (1) Evaluate the inner product between the neighbours $\\vec{\\eta}_j$ to compute the neighbourhood correlation matrix $C$ and its inverse $C^{-1}$:\n",
    "\n",
    "    $$C = \\vec{\\eta}_j \\vec{\\eta}_j^T$$\n",
    "\n",
    "    (2) Compute the Lagrange multiplier $\\lambda$ that enforces the weights to sum to one:\n",
    "\n",
    "    $$\\lambda = \\frac{\\alpha}{\\beta}$$\n",
    "\n",
    "    $$\\alpha = 1 - \\sum_{jk} C_{jk}^{-1} (\\vec{X}_i \\cdot \\vec{\\eta}_j)$$\n",
    "\n",
    "    $$\\beta = \\sum_{jk} C_{jk}^{-1}$$\n",
    "\n",
    "    (3) Compute the reconstruction weights:\n",
    "\n",
    "    $$w_j = \\sum C_{jk}^{-1} (\\vec{X}_i \\cdot \\vec{\\eta}_j + \\lambda)$$\n",
    "\n",
    "    The weights $W_{ij}$ summarize the contribution of the $j$-th data point to the $i$-th reconstruction.\n",
    "\n",
    "3. **Map the points to lower dimensional space coordinates.**\n",
    "\n",
    "    Each high-dimensional observation $\\vec{X}_i$ is mapped to a low-dimensional vector $\\vec{Y}_i$ representing the coordinates in the low-dimensional space by minimizing the embedding cost function:\n",
    "\n",
    "    $$\\Phi(Y) = \\sum_i |\\vec{Y}_i - \\sum_j W_{ij} \\vec{Y}_j|^2$$\n",
    "\n",
    "    In this cost function, the weights $W$ are fixed - we are now optimizing the coordinates $\\vec{Y}_i$. The cost function is minimized by the following procedure:\n",
    "\n",
    "    (1) Compute the symmetric matrix $M$:\n",
    "\n",
    "    $$M = I - W - W^T + W^T W$$\n",
    "\n",
    "    (2) Then, the embedding is the bottom $d + 1$ eigenvectors of this matrix (eigenvectors with the smallest eigenvalues, disregarding the first one)."
   ]
  },
  {
   "cell_type": "code",
   "execution_count": 3,
   "metadata": {
    "ExecuteTime": {
     "end_time": "2024-11-22T16:52:21.339844Z",
     "start_time": "2024-11-22T16:52:21.338193Z"
    }
   },
   "outputs": [],
   "source": [
    "# TODO: check if mathematical notation is correct and clear\n",
    "# TODO: should the explanation be expanded?"
   ]
  },
  {
   "cell_type": "code",
   "execution_count": 4,
   "metadata": {
    "pycharm": {
     "name": "#%%\n"
    },
    "ExecuteTime": {
     "end_time": "2024-11-22T16:52:21.372904Z",
     "start_time": "2024-11-22T16:52:21.340483Z"
    }
   },
   "outputs": [],
   "source": [
    "# Load the data\n",
    "expression_data_1 = np.loadtxt(os.path.join(DATA_PATH, \"expression_data_1.txt\"))\n",
    "metadata_1 = pd.read_csv(os.path.join(DATA_PATH, \"metadata_1.txt\"), header = None, names = [\"cell_type\"])"
   ]
  },
  {
   "cell_type": "code",
   "execution_count": 5,
   "metadata": {
    "collapsed": false,
    "ExecuteTime": {
     "end_time": "2024-11-22T16:52:21.377863Z",
     "start_time": "2024-11-22T16:52:21.376586Z"
    }
   },
   "outputs": [],
   "source": [
    "def correlation(points):\n",
    "    return points.dot(points.T) + np.eye(points.shape[0], points.shape[0]) * 1e-6\n",
    "\n",
    "\n",
    "def lagrange(corr_inverse, x, x_neighbours):\n",
    "    k = corr_inverse.shape[0]\n",
    "    dots = np.zeros(k)\n",
    "    for i in range(k):\n",
    "        dots[i] = x.dot(x_neighbours[i, :])\n",
    "\n",
    "    alpha = 1 - np.sum(corr_inverse * dots)\n",
    "    beta = np.sum(corr_inverse)\n",
    "\n",
    "    return alpha / beta\n",
    "\n",
    "\n",
    "def weights(corr_inverse, x, x_neighbours, lagrange_lambda):\n",
    "    k = corr_inverse.shape[0]\n",
    "    dots = np.zeros(k)\n",
    "    for i in range(k):\n",
    "        dots[i] = x.dot(x_neighbours[i]) + lagrange_lambda\n",
    "\n",
    "    weights = np.sum(corr_inverse * dots, axis = 1)\n",
    "    assert np.isclose(np.sum(weights), 1, atol = 1e-5)\n",
    "\n",
    "    return weights\n",
    "\n",
    "\n",
    "def weights_for_sample(x, x_neighbours):\n",
    "    # Calculate neighbourhood correlation matrix and its inverse\n",
    "    corr = correlation(x_neighbours)\n",
    "    corr_inverse = np.linalg.inv(corr)\n",
    "\n",
    "    # Compute the lagrange multiplier (ensures weights sum up to one)\n",
    "    lagrange_lambda = lagrange(corr_inverse, x, x_neighbours)\n",
    "\n",
    "    # Calculate the weights\n",
    "    return weights(corr_inverse, x, x_neighbours, lagrange_lambda)\n",
    "\n",
    "\n",
    "def weight_matrix(expression, is_neighbour):\n",
    "    # Weight matrix is initially zero and will be computed in a loop\n",
    "    W = np.zeros((is_neighbour.shape[0], is_neighbour.shape[1]))\n",
    "\n",
    "    for i, cell in enumerate(expression):\n",
    "        neighbourhood = expression[is_neighbour[i, :], :]\n",
    "        cell_weights = weights_for_sample(cell, neighbourhood)\n",
    "        W[i, is_neighbour[i, :]] = cell_weights\n",
    "\n",
    "    # Make sure all rows sum up to one\n",
    "    assert np.all(np.isclose(np.sum(W, axis = 1), 1, atol = 1e-5))\n",
    "    \n",
    "    return W"
   ]
  },
  {
   "cell_type": "code",
   "execution_count": 6,
   "metadata": {
    "collapsed": false,
    "ExecuteTime": {
     "end_time": "2024-11-22T16:52:21.381352Z",
     "start_time": "2024-11-22T16:52:21.379664Z"
    }
   },
   "outputs": [],
   "source": [
    "def task_01_lle(data: np.array, dim_n: int, k = 5) -> np.array:\n",
    "    \"\"\"\n",
    "    This function performs a locally-linear embedding.\n",
    "    :param data: numpy array of shape (n_samples, n_features)\n",
    "    :param dim_n: reduced dimensionality\n",
    "    :param k: number of nearest neighbors\n",
    "    :return: numpy array of shape (n_samples, dim_n)\n",
    "    \"\"\"\n",
    "\n",
    "    ### Step 1: select neighbors\n",
    "\n",
    "    # Assign neighbours to each data point\n",
    "    # Use parameter k + 1 because the algorithm returns each point as\n",
    "    # being a neighbor to itself\n",
    "    knn = NearestNeighbors(n_neighbors = k + 1)\n",
    "    neighbours = knn.fit(expression_data_1)\n",
    "\n",
    "    is_neighbour = neighbours.kneighbors_graph(expression_data_1)\n",
    "    is_neighbour = np.array(is_neighbour.toarray()) == 1\n",
    "    # Remove each point being a neighbor to itself\n",
    "    np.fill_diagonal(is_neighbour, False)\n",
    "\n",
    "    # Make sure the neighbors are assigned correctly\n",
    "    assert np.all(np.sum(is_neighbour, axis = 1) == k)\n",
    "\n",
    "    ### Step 2: reconstruct with linear weights\n",
    "\n",
    "    # Calculate the weight matrix\n",
    "    W = weight_matrix(data, is_neighbour)\n",
    "\n",
    "    ### Step 3: map to embedded coordinates\n",
    "\n",
    "    # Calculate matrix M\n",
    "    delta = np.eye(data.shape[0], data.shape[0])\n",
    "    M = delta - W - W.T + W.T @ W\n",
    "\n",
    "    # Find the smallest (dim_n + 1) eigenvalues - that's our embedding\n",
    "    eigenvalues, eigenvectors = np.linalg.eig(M)\n",
    "    sorted_indices = np.argsort(eigenvalues)\n",
    "    eigenvectors = eigenvectors[:, sorted_indices]\n",
    "\n",
    "    embedding = eigenvectors[:, 1:(dim_n + 1)]\n",
    "\n",
    "    return embedding"
   ]
  },
  {
   "cell_type": "code",
   "execution_count": 7,
   "metadata": {
    "pycharm": {
     "name": "#%%\n"
    },
    "ExecuteTime": {
     "end_time": "2024-11-22T16:52:29.748091Z",
     "start_time": "2024-11-22T16:52:21.382602Z"
    }
   },
   "outputs": [],
   "source": [
    "# Task 1A\n",
    "# Compute locally linear embedding for given data\n",
    "task_01_solution = task_01_lle(data = expression_data_1, dim_n = 2)"
   ]
  },
  {
   "cell_type": "code",
   "execution_count": 8,
   "metadata": {
    "ExecuteTime": {
     "end_time": "2024-11-22T16:52:29.751447Z",
     "start_time": "2024-11-22T16:52:29.749718Z"
    }
   },
   "outputs": [],
   "source": [
    "def plot_embedding(categories, embedding, alpha = 1):\n",
    "    labels = categories.tolist()\n",
    "    colors = categories.cat.codes\n",
    "\n",
    "    color_palette = matplotlib.colormaps[\"Paired\"]\n",
    "    colors_map = [ color_palette(i) for i in range(len(categories.unique())) ]\n",
    "\n",
    "    for i, category in enumerate(categories.unique()):\n",
    "        point_idx = np.where(categories == category)\n",
    "        color = colors_map[i]\n",
    "\n",
    "        plt.scatter(\n",
    "            embedding[point_idx, 0], embedding[point_idx, 1],\n",
    "            color = color,\n",
    "            alpha = alpha,\n",
    "            s = 10,\n",
    "            label = category\n",
    "        )\n",
    "\n",
    "    plt.xlabel(\"LLE dimension 1\")\n",
    "    plt.ylabel(\"LLE dimension 2\")\n",
    "    plt.legend(loc = \"center left\", bbox_to_anchor = (1, 0.5))\n",
    "    plt.show()"
   ]
  },
  {
   "cell_type": "code",
   "execution_count": 9,
   "metadata": {
    "ExecuteTime": {
     "end_time": "2024-11-22T16:52:29.882996Z",
     "start_time": "2024-11-22T16:52:29.752873Z"
    }
   },
   "outputs": [
    {
     "data": {
      "text/plain": "<Figure size 640x480 with 1 Axes>",
      "image/png": "[encoded data removed]"
     },
     "metadata": {},
     "output_type": "display_data"
    }
   ],
   "source": [
    "# Plot the embedding, annotated with cell type identity\n",
    "plot_embedding(\n",
    "    categories = metadata_1.cell_type.astype(\"category\"),\n",
    "    embedding = task_01_solution\n",
    ")"
   ]
  },
  {
   "cell_type": "markdown",
   "metadata": {},
   "source": [
    "In this case, LLE does not produce a very clear and useful result. The majority of the cells have very similar embeddings, so it is impossible to differentiate between them in the plot and see whether (and which) different cell types form any clusters."
   ]
  },
  {
   "cell_type": "markdown",
   "metadata": {},
   "source": [
    "_B. Next use the umap-learn package to generate a 2D UMAP embedding of the same data: expression_data_1.txt. Create a plot of the UMAP embedding annotated with the cell type identity. (5 points)_"
   ]
  },
  {
   "cell_type": "code",
   "execution_count": 10,
   "metadata": {
    "pycharm": {
     "name": "#%%\n"
    },
    "ExecuteTime": {
     "end_time": "2024-11-22T16:52:34.658219Z",
     "start_time": "2024-11-22T16:52:29.882441Z"
    }
   },
   "outputs": [],
   "source": [
    "# Task 1B\n",
    "# Compute UMAP embedding of the given data and plot it\n",
    "umap = UMAP()\n",
    "embedding_umap = umap.fit_transform(expression_data_1)"
   ]
  },
  {
   "cell_type": "code",
   "execution_count": 11,
   "metadata": {
    "ExecuteTime": {
     "end_time": "2024-11-22T16:52:34.761362Z",
     "start_time": "2024-11-22T16:52:34.659461Z"
    }
   },
   "outputs": [
    {
     "data": {
      "text/plain": "<Figure size 640x480 with 1 Axes>",
      "image/png": "[encoded data removed]"
     },
     "metadata": {},
     "output_type": "display_data"
    }
   ],
   "source": [
    "plot_embedding(\n",
    "    categories = metadata_1.cell_type.astype(\"category\"),\n",
    "    embedding = embedding_umap,\n",
    "    alpha = 0.5\n",
    ")"
   ]
  },
  {
   "cell_type": "markdown",
   "metadata": {},
   "source": [
    "The UMAP embedding visually provides more information than the LLE embedding. In the plot, we can see 3 clear clusters: (1) DC, CD14+ Mono, and FCGR3A+ Mono (with some Platelet cells), (2) Naive CD4 T, CD8 T, Memory CD4 T, and NK (with a few B cells), and (3) B cell cluster. This plot allows to see more clearly which cells cluster together, and, thus, have similar gene expression patterns."
   ]
  },
  {
   "cell_type": "markdown",
   "metadata": {},
   "source": []
  },
  {
   "cell_type": "code",
   "execution_count": 12,
   "metadata": {
    "pycharm": {
     "name": "#%%\n"
    },
    "ExecuteTime": {
     "end_time": "2024-11-22T16:52:34.761497Z",
     "start_time": "2024-11-22T16:52:34.758701Z"
    }
   },
   "outputs": [],
   "source": [
    "# Task 1C\n",
    "# Compute LLE and UMAP embeddings with different numbers of neighbors\n",
    "#########################\n",
    "# INSERT YOUR CODE HERE #\n",
    "#########################"
   ]
  },
  {
   "cell_type": "markdown",
   "metadata": {
    "pycharm": {
     "name": "#%% md\n"
    }
   },
   "source": [
    "**Provide your text answers for Task 1D here**"
   ]
  },
  {
   "cell_type": "markdown",
   "metadata": {
    "pycharm": {
     "name": "#%% md\n"
    }
   },
   "source": [
    "### Task 2"
   ]
  },
  {
   "cell_type": "code",
   "execution_count": 13,
   "metadata": {
    "pycharm": {
     "name": "#%%\n"
    },
    "ExecuteTime": {
     "end_time": "2024-11-22T16:52:35.634686Z",
     "start_time": "2024-11-22T16:52:34.761215Z"
    }
   },
   "outputs": [],
   "source": [
    "# Load data\n",
    "expression_data_2 = pd.read_csv(os.path.join(DATA_PATH, \"expression_data_2.txt\"), sep=\"\\t\", index_col=0)\n",
    "metadata_2 = pd.read_csv(os.path.join(DATA_PATH, \"metadata_2.txt\"), sep=\"\\t\", index_col=0)"
   ]
  },
  {
   "cell_type": "code",
   "execution_count": 14,
   "metadata": {
    "pycharm": {
     "name": "#%%\n"
    },
    "ExecuteTime": {
     "end_time": "2024-11-22T16:52:35.638584Z",
     "start_time": "2024-11-22T16:52:35.635710Z"
    }
   },
   "outputs": [],
   "source": [
    "def task_02_quantile_normalization(data: pd.DataFrame, meta_data: pd.DataFrame, target: str) -> pd.DataFrame:\n",
    "    \"\"\"\n",
    "    This function performs quantile normalization as batch correction.\n",
    "    :param data: pandas DataFrame of shape (n_cells, n_genes)\n",
    "    :param meta_data: pandas DataFrame containing the target variable to correct for\n",
    "    :param target: target variable in meta_data\n",
    "    :return: pandas DataFrame with quantile normalized data\n",
    "    \"\"\"\n",
    "    corrected_data = data.copy()\n",
    "\n",
    "    #########################\n",
    "    # INSERT YOUR CODE HERE #\n",
    "    #########################\n",
    "\n",
    "    return corrected_data"
   ]
  },
  {
   "cell_type": "code",
   "execution_count": 15,
   "metadata": {
    "pycharm": {
     "name": "#%%\n"
    },
    "ExecuteTime": {
     "end_time": "2024-11-22T16:52:35.676629Z",
     "start_time": "2024-11-22T16:52:35.639030Z"
    }
   },
   "outputs": [],
   "source": [
    "# Task 2\n",
    "task_02_solution = task_02_quantile_normalization(data=expression_data_2, meta_data=metadata_2, target=\"celltype\")\n",
    "\n",
    "# Compute UMAP and plot uncorrected and corrected data with batch and celltype annotation\n",
    "#########################\n",
    "# INSERT YOUR CODE HERE #\n",
    "#########################"
   ]
  },
  {
   "cell_type": "markdown",
   "metadata": {
    "pycharm": {
     "name": "#%% md\n"
    }
   },
   "source": [
    "**Provide your text answers for Task 2B here**"
   ]
  },
  {
   "cell_type": "code",
   "execution_count": 15,
   "metadata": {
    "pycharm": {
     "name": "#%%\n"
    },
    "ExecuteTime": {
     "end_time": "2024-11-22T16:52:35.680854Z",
     "start_time": "2024-11-22T16:52:35.676809Z"
    }
   },
   "outputs": [],
   "source": []
  }
 ],
 "metadata": {
  "kernelspec": {
   "display_name": "python-single-cell",
   "language": "python",
   "name": "python3"
  },
  "language_info": {
   "codemirror_mode": {
    "name": "ipython",
    "version": 3
   },
   "file_extension": ".py",
   "mimetype": "text/x-python",
   "name": "python",
   "nbconvert_exporter": "python",
   "pygments_lexer": "ipython3",
   "version": "3.12.7"
  }
 },
 "nbformat": 4,
 "nbformat_minor": 1
}
