{
 "cells": [
  {
   "cell_type": "markdown",
   "metadata": {
    "pycharm": {
     "name": "#%% md\n"
    }
   },
   "source": [
    "# Machine Learning for Single-Cell Biology\n",
    "***\n",
    "\n",
    "Winter Semester 2024/25<br />\n",
    "Manfred Claassen, Matthias Bruhns, Jan Schleicher\n",
    "<br />\n",
    "***\n",
    "\n",
    "## Assignment 2"
   ]
  },
  {
   "cell_type": "code",
   "execution_count": null,
   "metadata": {
    "pycharm": {
     "name": "#%%\n"
    }
   },
   "outputs": [],
   "source": [
    "import matplotlib.pyplot as plt\n",
    "import numpy as np\n",
    "import os\n",
    "import pandas as pd\n",
    "import scipy.optimize as opt\n",
    "import seaborn as sns\n",
    "\n",
    "from sklearn.datasets import make_swiss_roll\n",
    "from sklearn.manifold import LocallyLinearEmbedding\n",
    "from sklearn.neighbors import NearestNeighbors\n",
    "from sklearn.preprocessing import StandardScaler\n",
    "from sklearn.metrics import davies_bouldin_score\n",
    "from umap import UMAP\n",
    "\n",
    "from tqdm.auto import tqdm\n",
    "\n",
    "sns.set_style(\"ticks\")\n",
    "%matplotlib inline"
   ]
  },
  {
   "cell_type": "code",
   "execution_count": null,
   "metadata": {
    "pycharm": {
     "name": "#%%\n"
    }
   },
   "outputs": [],
   "source": [
    "DATA_PATH = \"data/\""
   ]
  },
  {
   "cell_type": "markdown",
   "metadata": {
    "pycharm": {
     "name": "#%% md\n"
    }
   },
   "source": [
    "### Task 1"
   ]
  },
  {
   "cell_type": "code",
   "execution_count": null,
   "metadata": {
    "pycharm": {
     "name": "#%%\n"
    }
   },
   "outputs": [],
   "source": [
    "# Load the data\n",
    "expression_data_1 =  np.loadtxt(os.path.join(DATA_PATH, \"expression_data_1.txt\"))\n",
    "metadata_1 = pd.read_csv(os.path.join(DATA_PATH, \"metadata_1.txt\"), header=None, names=[\"cell_type\"])"
   ]
  },
  {
   "cell_type": "code",
   "execution_count": null,
   "metadata": {
    "pycharm": {
     "name": "#%%\n"
    }
   },
   "outputs": [],
   "source": [
    "def task_01_lle(data: np.array, dim_n: int, k=5) -> np.array:\n",
    "    \"\"\"\n",
    "    This function performs a locally-linear embedding.\n",
    "    :param data: numpy array of shape (n_samples, n_features)\n",
    "    :param dim_n: reduced dimensionality\n",
    "    :param k: number of nearest neighbors\n",
    "    :return: numpy array of shape (n_samples, dim_n)\n",
    "    \"\"\"\n",
    "    embedding = np.zeros((data.shape[0], dim_n))\n",
    "\n",
    "    #########################\n",
    "    # INSERT YOUR CODE HERE #\n",
    "    #########################\n",
    "\n",
    "    return embedding"
   ]
  },
  {
   "cell_type": "code",
   "execution_count": null,
   "metadata": {
    "pycharm": {
     "name": "#%%\n"
    }
   },
   "outputs": [],
   "source": [
    "# Task 1A\n",
    "# Compute locally linear embedding for given data\n",
    "task_01_solution = task_01_lle(data=expression_data_1, dim_n=2)\n",
    "\n",
    "# Plot the embedding, annotated with cell type identity\n",
    "#########################\n",
    "# INSERT YOUR CODE HERE #\n",
    "#########################"
   ]
  },
  {
   "cell_type": "code",
   "execution_count": null,
   "metadata": {
    "pycharm": {
     "name": "#%%\n"
    }
   },
   "outputs": [],
   "source": [
    "# Task 1B\n",
    "# Compute UMAP embedding of the given data and plot it\n",
    "#########################\n",
    "# INSERT YOUR CODE HERE #\n",
    "#########################"
   ]
  },
  {
   "cell_type": "code",
   "execution_count": null,
   "metadata": {
    "pycharm": {
     "name": "#%%\n"
    }
   },
   "outputs": [],
   "source": [
    "# Task 1C\n",
    "# Compute LLE and UMAP embeddings with different numbers of neighbors\n",
    "#########################\n",
    "# INSERT YOUR CODE HERE #\n",
    "#########################"
   ]
  },
  {
   "cell_type": "markdown",
   "metadata": {
    "pycharm": {
     "name": "#%% md\n"
    }
   },
   "source": [
    "**Provide your text answers for Task 1D here**"
   ]
  },
  {
   "cell_type": "markdown",
   "metadata": {
    "pycharm": {
     "name": "#%% md\n"
    }
   },
   "source": [
    "### Task 2"
   ]
  },
  {
   "cell_type": "code",
   "execution_count": null,
   "metadata": {
    "pycharm": {
     "name": "#%%\n"
    }
   },
   "outputs": [],
   "source": [
    "# Load data\n",
    "expression_data_2 = pd.read_csv(os.path.join(DATA_PATH, \"expression_data_2.txt\"), sep=\"\\t\", index_col=0)\n",
    "metadata_2 = pd.read_csv(os.path.join(DATA_PATH, \"metadata_2.txt\"), sep=\"\\t\", index_col=0)"
   ]
  },
  {
   "cell_type": "code",
   "execution_count": null,
   "metadata": {
    "pycharm": {
     "name": "#%%\n"
    }
   },
   "outputs": [],
   "source": [
    "def task_02_quantile_normalization(data: pd.DataFrame, meta_data: pd.DataFrame, target: str) -> pd.DataFrame:\n",
    "    \"\"\"\n",
    "    This function performs quantile normalization as batch correction.\n",
    "    :param data: pandas DataFrame of shape (n_cells, n_genes)\n",
    "    :param meta_data: pandas DataFrame containing the target variable to correct for\n",
    "    :param target: target variable in meta_data\n",
    "    :return: pandas DataFrame with quantile normalized data\n",
    "    \"\"\"\n",
    "    corrected_data = data.copy()\n",
    "\n",
    "    #########################\n",
    "    # INSERT YOUR CODE HERE #\n",
    "    #########################\n",
    "\n",
    "    return corrected_data"
   ]
  },
  {
   "cell_type": "code",
   "execution_count": null,
   "metadata": {
    "pycharm": {
     "name": "#%%\n"
    }
   },
   "outputs": [],
   "source": [
    "# Task 2\n",
    "task_02_solution = task_02_quantile_normalization(data=expression_data_2, meta_data=metadata_2, target=\"celltype\")\n",
    "\n",
    "# Compute UMAP and plot uncorrected and corrected data with batch and celltype annotation\n",
    "#########################\n",
    "# INSERT YOUR CODE HERE #\n",
    "#########################"
   ]
  },
  {
   "cell_type": "markdown",
   "metadata": {
    "pycharm": {
     "name": "#%% md\n"
    }
   },
   "source": [
    "**Provide your text answers for Task 2B here**"
   ]
  },
  {
   "cell_type": "code",
   "execution_count": null,
   "metadata": {
    "pycharm": {
     "name": "#%%\n"
    }
   },
   "outputs": [],
   "source": []
  }
 ],
 "metadata": {
  "kernelspec": {
   "display_name": "Python 3 (ipykernel)",
   "language": "python",
   "name": "python3"
  },
  "language_info": {
   "codemirror_mode": {
    "name": "ipython",
    "version": 3
   },
   "file_extension": ".py",
   "mimetype": "text/x-python",
   "name": "python",
   "nbconvert_exporter": "python",
   "pygments_lexer": "ipython3",
   "version": "3.11.4"
  }
 },
 "nbformat": 4,
 "nbformat_minor": 1
}
